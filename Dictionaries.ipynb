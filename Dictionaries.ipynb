{
 "cells": [
  {
   "cell_type": "markdown",
   "id": "8aff7046",
   "metadata": {},
   "source": [
    "# Python Dictionaries Notebook 📘\n",
    "**Date**: May 1, 2025\n",
    "**Author**: Fehintolu Samuel\n",
    "\n",
    "\n",
    "Imagine you're organizing a library where each book has a unique code, and you can quickly find any book by its code. This is similar to how dictionaries work in Python.\n",
    "Welcome to this comprehensive guide on Python dictionaries! 🚀"
   ]
  },
  {
   "cell_type": "markdown",
   "id": "78d383ed",
   "metadata": {},
   "source": [
    "# Understanding Dictionaries in Python 🧠\n",
    "Dictionaries are one of the most versatile and widely used data structures in Python. They store data in key-value pairs, allowing for fast lookups and efficient data management.\n",
    "\n",
    "Continuing with our library analogy, think of the key as the unique code for each book and the value as the book itself. This pairing makes it easy to locate any book in the library."
   ]
  },
  {
   "cell_type": "markdown",
   "id": "fbec3a44",
   "metadata": {},
   "source": [
    "## Key Features of Dictionaries 🔑\n",
    "- **Unordered**: The order of items is not guaranteed (in Python 3.7+, insertion order is preserved).\n",
    "- **Mutable**: You can change, add, or remove items after the dictionary is created.\n",
    "- **Key-Value Pairs**: Each key is unique, and it maps to a value.\n",
    "\n",
    "In our library analogy, the unordered nature of dictionaries is like books being stored in random shelves, but you can still find them quickly using their unique codes. The mutability is like being able to add, remove, or update books in the library."
   ]
  },
  {
   "cell_type": "markdown",
   "id": "76192fde",
   "metadata": {},
   "source": [
    "## Creating a Dictionary 🛠️\n",
    "You can create a dictionary using curly braces `{}` or the `dict()` constructor.\n",
    "\n",
    "We can see creating a dictionary as setting up a new library system where you assign unique codes to books. For example, you might start with a few books and their codes to build your catalog."
   ]
  },
  {
   "cell_type": "code",
   "execution_count": null,
   "id": "7f1e3d20",
   "metadata": {},
   "outputs": [],
   "source": [
    "# Example of creating a dictionary\n",
    "my_dict = {\"name\": \"Alice\", \"age\": 25, \"city\": \"New York\"}\n",
    "print(my_dict)"
   ]
  },
  {
   "cell_type": "markdown",
   "id": "b3a0ccf5",
   "metadata": {},
   "source": [
    "## Accessing Values in a Dictionary 🔍\n",
    "You can access values by using their corresponding keys.\n",
    "\n",
    "Accessing a value in a dictionary is like looking up a book in the library using its unique code. You don't need to search through all the shelves; you go directly to the book using its code."
   ]
  },
  {
   "cell_type": "code",
   "execution_count": null,
   "id": "6d3e57fb",
   "metadata": {},
   "outputs": [],
   "source": [
    "# Accessing a value by key\n",
    "print(my_dict[\"name\"])  # Output: Alice"
   ]
  },
  {
   "cell_type": "markdown",
   "id": "8a08d924",
   "metadata": {},
   "source": [
    "## Adding and Updating Items ✏️\n",
    "You can add new key-value pairs or update existing ones.\n",
    "\n",
    "Adding or updating items in a dictionary is like adding new books to the library or replacing old books with updated editions. The unique code ensures that each book is correctly identified."
   ]
  },
  {
   "cell_type": "code",
   "execution_count": null,
   "id": "b7c8ba50",
   "metadata": {},
   "outputs": [],
   "source": [
    "# Adding a new key-value pair\n",
    "my_dict[\"country\"] = \"USA\"\n",
    "print(my_dict)"
   ]
  },
  {
   "cell_type": "code",
   "execution_count": null,
   "id": "08585edc",
   "metadata": {},
   "outputs": [],
   "source": [
    "# Updating an existing key\n",
    "my_dict[\"age\"] = 26\n",
    "print(my_dict)"
   ]
  },
  {
   "cell_type": "markdown",
   "id": "21afcefe",
   "metadata": {},
   "source": [
    "## Removing Items 🗑️\n",
    "You can remove items using the `del` statement or the `pop()` method.\n",
    "\n",
    "Removing items from a dictionary is like removing outdated or damaged books from the library. Once the book is removed, its unique code is no longer valid."
   ]
  },
  {
   "cell_type": "code",
   "execution_count": null,
   "id": "e5e89afe",
   "metadata": {},
   "outputs": [],
   "source": [
    "# Removing an item using del\n",
    "del my_dict[\"city\"]\n",
    "print(my_dict)"
   ]
  },
  {
   "cell_type": "code",
   "execution_count": null,
   "id": "94c7bfd8",
   "metadata": {},
   "outputs": [],
   "source": [
    "# Removing an item using pop\n",
    "age = my_dict.pop(\"age\")\n",
    "print(my_dict)"
   ]
  },
  {
   "cell_type": "markdown",
   "id": "18f30893",
   "metadata": {},
   "source": [
    "## Iterating Through a Dictionary 🔄\n",
    "You can iterate through keys, values, or key-value pairs using loops.\n",
    "\n",
    "Iterating through a dictionary is like doing an inventory check in the library. You can go through all the book codes, the books themselves, or both the codes and books together."
   ]
  },
  {
   "cell_type": "code",
   "execution_count": null,
   "id": "838cbc43",
   "metadata": {},
   "outputs": [],
   "source": [
    "# Iterating through keys\n",
    "for key in my_dict.keys():\n",
    "    print(key)"
   ]
  },
  {
   "cell_type": "code",
   "execution_count": null,
   "id": "bb8e1d67",
   "metadata": {},
   "outputs": [],
   "source": [
    "# Iterating through values\n",
    "for value in my_dict.values():\n",
    "    print(value)"
   ]
  },
  {
   "cell_type": "code",
   "execution_count": null,
   "id": "039c899a",
   "metadata": {},
   "outputs": [],
   "source": [
    "# Iterating through key-value pairs\n",
    "for key, value in my_dict.items():\n",
    "    print(f\"{key}: {value}\")"
   ]
  },
  {
   "cell_type": "markdown",
   "id": "5c306b60",
   "metadata": {},
   "source": [
    "## Dictionary Methods 🛠️\n",
    "Dictionaries come with several built-in methods, such as `get()`, `keys()`, `values()`, and `items()`.\n",
    "\n",
    "Using dictionary methods is like having specialized tools in the library to quickly find books, list all book codes, or even get a list of all books and their codes."
   ]
  },
  {
   "cell_type": "code",
   "execution_count": null,
   "id": "29cd2b38",
   "metadata": {},
   "outputs": [],
   "source": [
    "# Using the get() method\n",
    "print(my_dict.get(\"name\", \"Not Found\"))"
   ]
  },
  {
   "cell_type": "markdown",
   "id": "e61f4b55",
   "metadata": {},
   "source": [
    "## Nested Dictionaries 🏗️\n",
    "Dictionaries can contain other dictionaries, allowing for hierarchical data storage.\n",
    "\n",
    "Nested dictionaries are like having sections in the library, where each section has its own set of books and codes. For example, a section for fiction and another for non-fiction, each with their own catalog."
   ]
  },
  {
   "cell_type": "code",
   "execution_count": null,
   "id": "335f4218",
   "metadata": {},
   "outputs": [],
   "source": [
    "# Example of a nested dictionary\n",
    "nested_dict = {\"person1\": {\"name\": \"Alice\", \"age\": 25}, \"person2\": {\"name\": \"Bob\", \"age\": 30}}\n",
    "print(nested_dict)"
   ]
  },
  {
   "cell_type": "code",
   "execution_count": null,
   "id": "502e7c50",
   "metadata": {},
   "outputs": [],
   "source": [
    "# Accessing a value by key\n",
    "print(my_dict[\"name\"])  # Output: Alice"
   ]
  },
  {
   "cell_type": "markdown",
   "id": "9b57e2ab",
   "metadata": {},
   "source": [
    "## Advanced Concepts in Dictionaries 🌟\n",
    "Dictionaries in Python can be used in advanced ways to solve complex problems. Let's explore some of these concepts.\n",
    "\n",
    "Advanced dictionary concepts are like implementing a digital library system where you can automate tasks like sorting books, merging catalogs, or even generating reports."
   ]
  },
  {
   "cell_type": "markdown",
   "id": "3c76f834",
   "metadata": {},
   "source": [
    "### Dictionary Comprehensions 🛠️\n",
    "Dictionary comprehensions provide a concise way to create dictionaries.\n",
    "\n",
    "Dictionary comprehensions are like setting up a new library catalog in one go, where you assign codes to books based on a specific pattern or rule."
   ]
  },
  {
   "cell_type": "code",
   "execution_count": null,
   "id": "98e02c1b",
   "metadata": {},
   "outputs": [],
   "source": [
    "# Example of dictionary comprehension\n",
    "squared_numbers = {x: x**2 for x in range(1, 6)}\n",
    "print(squared_numbers)"
   ]
  },
  {
   "cell_type": "markdown",
   "id": "b5366f1a",
   "metadata": {},
   "source": [
    "### Merging Dictionaries 🧩\n",
    "You can merge two dictionaries using the `update()` method or the `|` operator (Python 3.9+).\n",
    "\n",
    "Merging dictionaries is like combining two library catalogs into one, ensuring that all books from both libraries are included."
   ]
  },
  {
   "cell_type": "code",
   "execution_count": null,
   "id": "af5d809d",
   "metadata": {},
   "outputs": [],
   "source": [
    "# Merging dictionaries\n",
    "dict1 = {\"a\": 1, \"b\": 2}\n",
    "dict2 = {\"c\": 3, \"d\": 4}\n",
    "merged_dict = dict1 | dict2\n",
    "print(merged_dict)"
   ]
  },
  {
   "cell_type": "markdown",
   "id": "b5167c13",
   "metadata": {},
   "source": [
    "### Default Values with `defaultdict` 🛡️\n",
    "The `collections.defaultdict` class allows you to set default values for keys that do not exist.\n",
    "\n",
    "Using `defaultdict` is like having a default section in the library where any unclassified book is temporarily placed until it gets a proper code."
   ]
  },
  {
   "cell_type": "code",
   "execution_count": null,
   "id": "cca46df6",
   "metadata": {},
   "outputs": [],
   "source": [
    "# Using defaultdict\n",
    "from collections import defaultdict\n",
    "dd = defaultdict(int)\n",
    "dd[\"key1\"] += 1\n",
    "print(dd)\n",
    "print(dd[\"key2\"])  # Default value is 0"
   ]
  },
  {
   "cell_type": "markdown",
   "id": "5566762e",
   "metadata": {},
   "source": [
    "### Exercises 📝\n",
    "1. Write a dictionary comprehension to create a dictionary of numbers and their cubes for numbers 1 through 10.\n",
    "2. Merge two dictionaries and print the result.\n",
    "3. Use `defaultdict` to count the frequency of characters in a string."
   ]
  },
  {
   "cell_type": "markdown",
   "id": "e451ed5a",
   "metadata": {},
   "source": [
    "### Sorting Dictionaries 📊\n",
    "You can sort dictionaries by keys or values using the `sorted()` function.\n",
    "\n",
    "Sorting dictionaries is like organizing the library shelves alphabetically by book codes or by the titles of the books."
   ]
  },
  {
   "cell_type": "code",
   "execution_count": null,
   "id": "2c0aa58c",
   "metadata": {},
   "outputs": [],
   "source": [
    "# Sorting a dictionary by keys\n",
    "unsorted_dict = {\"b\": 2, \"a\": 1, \"c\": 3}\n",
    "sorted_by_keys = dict(sorted(unsorted_dict.items()))\n",
    "print(sorted_by_keys)"
   ]
  },
  {
   "cell_type": "markdown",
   "id": "2b06d6d5",
   "metadata": {},
   "source": [
    "### Exercises 📝\n",
    "4. Sort a dictionary by its values in descending order.\n",
    "5. Write a function to find the key with the maximum value in a dictionary."
   ]
  },
  {
   "cell_type": "markdown",
   "id": "bafd0a57",
   "metadata": {},
   "source": [
    "### Copying Dictionaries 📋\n",
    "You can create a shallow copy of a dictionary using the `copy()` method or the `dict()` constructor.\n",
    "\n",
    "Copying dictionaries is like making a backup of the library catalog so you can experiment with changes without affecting the original."
   ]
  },
  {
   "cell_type": "code",
   "execution_count": null,
   "id": "44921340",
   "metadata": {},
   "outputs": [],
   "source": [
    "# Copying a dictionary\n",
    "original_dict = {\"x\": 10, \"y\": 20}\n",
    "copied_dict = original_dict.copy()\n",
    "print(copied_dict)"
   ]
  },
  {
   "cell_type": "markdown",
   "id": "30a21c0e",
   "metadata": {},
   "source": [
    "### Exercises 📝\n",
    "6. Create a copy of a dictionary and modify the copy without affecting the original.\n",
    "7. Write a program to deep copy a nested dictionary."
   ]
  }
 ],
 "metadata": {
  "language_info": {
   "name": "python"
  }
 },
 "nbformat": 4,
 "nbformat_minor": 5
}

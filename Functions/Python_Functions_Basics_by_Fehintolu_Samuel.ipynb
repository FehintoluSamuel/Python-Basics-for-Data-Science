{
 "cells": [
  {
   "cell_type": "markdown",
   "id": "e121f3c7",
   "metadata": {},
   "source": [
    "# Understanding Python Functions: A Beginner’s Journey\n",
    "### By Fehintolu Samuel\n",
    "\n",
    "Welcome to your beginner-friendly guide to Python **functions**, where we’ll learn using a fun analogy: **a restaurant kitchen!**\n",
    "\n",
    "Throughout this notebook, imagine that writing a function in Python is like running a well-organized restaurant kitchen. Let’s get cooking! **🍽️👨‍🍳🔥**"
   ]
  },
  {
   "cell_type": "markdown",
   "id": "5fdc08b7",
   "metadata": {},
   "source": [
    "## 🍳 What is a Function?\n",
    "In Python, a **function** is like a **kitchen station** in a restaurant. You give it ingredients (inputs), it does some work (process), and gives you a dish (output).\n",
    "\n",
    "**Why use functions?**\n",
    "- To keep code organized (like keeping a clean kitchen!)\n",
    "- To reuse code easily (like having a recipe you can follow again)\n",
    "- To make your program easier to understand and maintain\n",
    "\n",
    "**Syntax:**\n",
    "```python\n",
    "def function_name(parameters):\n",
    "    # do something\n",
    "    return result\n",
    "```\n"
   ]
  },
  {
   "cell_type": "markdown",
   "id": "9c9c8681",
   "metadata": {},
   "source": [
    "### 🧠 Exercise:\n",
    "Write down 3 real-life tasks that could be turned into functions using the kitchen analogy. For example:\n",
    "- Making a sandwich\n",
    "- Pouring a drink\n",
    "- Cleaning the table"
   ]
  },
  {
   "cell_type": "code",
   "execution_count": null,
   "id": "67413d17",
   "metadata": {
    "vscode": {
     "languageId": "plaintext"
    }
   },
   "outputs": [],
   "source": []
  },
  {
   "cell_type": "markdown",
   "id": "6ef9a6ea",
   "metadata": {},
   "source": [
    "## 🔪 Defining a Simple Function\n",
    "Let’s say we want to make a **cup of tea**. Our kitchen station needs water, tea leaves, and sugar.\n",
    "\n",
    "```python\n",
    "def make_tea(water, tea_leaves, sugar):\n",
    "    return f\"Tea made with {water}, {tea_leaves}, and {sugar}.\"\n",
    "```\n",
    "Just like that, you’ve created a reusable kitchen station (function)!"
   ]
  },
  {
   "cell_type": "markdown",
   "id": "5f745891",
   "metadata": {},
   "source": [
    "### 🧪 Kitchen Exercise 3:\n",
    "Write a function called `make_sandwich` that takes `bread`, `filling`, and `sauce` as parameters.\n",
    "Have it return a sentence like:\n",
    "`\"A sandwich with whole wheat bread, chicken, and mayo is ready!\"`\n"
   ]
  },
  {
   "cell_type": "code",
   "execution_count": null,
   "id": "ab9b6203",
   "metadata": {
    "vscode": {
     "languageId": "plaintext"
    }
   },
   "outputs": [],
   "source": []
  },
  {
   "cell_type": "markdown",
   "id": "c762f084",
   "metadata": {},
   "source": [
    "## 🍽️ Kitchen Lesson 3: More About Functions\n",
    "Let’s learn another aspect of Python functions using our kitchen analogy.\n",
    "\n",
    "Imagine this station is in charge of preparing meals depending on what the waiter brings in. Functions can have:\n",
    "- **Default ingredients (parameters)**\n",
    "- **Optional spices (keyword arguments)**\n",
    "- **Cleanup instructions (return values)**\n",
    "\n",
    "Stay tuned to learn how to clean your kitchen after use (function scope and return)!"
   ]
  },
  {
   "cell_type": "markdown",
   "id": "896ad5ca",
   "metadata": {},
   "source": [
    "### 🧪 Kitchen Exercise 4:\n",
    "Write a function called `make_sandwich` that takes `bread`, `filling`, and `sauce` as parameters.\n",
    "Have it return a sentence like:\n",
    "`\"A sandwich with whole wheat bread, chicken, and mayo is ready!\"`\n"
   ]
  },
  {
   "cell_type": "code",
   "execution_count": null,
   "id": "e96ba5c4",
   "metadata": {
    "vscode": {
     "languageId": "plaintext"
    }
   },
   "outputs": [],
   "source": []
  },
  {
   "cell_type": "markdown",
   "id": "1c787456",
   "metadata": {},
   "source": [
    "## 🍽️ Kitchen Lesson 4: More About Functions\n",
    "Let’s learn another aspect of Python functions using our kitchen analogy.\n",
    "\n",
    "Imagine this station is in charge of preparing meals depending on what the waiter brings in. Functions can have:\n",
    "- **Default ingredients (parameters)**\n",
    "- **Optional spices (keyword arguments)**\n",
    "- **Cleanup instructions (return values)**\n",
    "\n",
    "Stay tuned to learn how to clean your kitchen after use (function scope and return)!"
   ]
  },
  {
   "cell_type": "markdown",
   "id": "4ed8154c",
   "metadata": {},
   "source": [
    "### 🧪 Kitchen Exercise 5:\n",
    "Write a function called `make_sandwich` that takes `bread`, `filling`, and `sauce` as parameters.\n",
    "Have it return a sentence like:\n",
    "`\"A sandwich with whole wheat bread, chicken, and mayo is ready!\"`\n"
   ]
  },
  {
   "cell_type": "code",
   "execution_count": null,
   "id": "a2ae6df8",
   "metadata": {
    "vscode": {
     "languageId": "plaintext"
    }
   },
   "outputs": [],
   "source": []
  },
  {
   "cell_type": "markdown",
   "id": "80b16e83",
   "metadata": {},
   "source": [
    "## 🍽️ Kitchen Lesson 5: More About Functions\n",
    "Let’s learn another aspect of Python functions using our kitchen analogy.\n",
    "\n",
    "Imagine this station is in charge of preparing meals depending on what the waiter brings in. Functions can have:\n",
    "- **Default ingredients (parameters)**\n",
    "- **Optional spices (keyword arguments)**\n",
    "- **Cleanup instructions (return values)**\n",
    "\n",
    "Stay tuned to learn how to clean your kitchen after use (function scope and return)!"
   ]
  },
  {
   "cell_type": "markdown",
   "id": "500de6dc",
   "metadata": {},
   "source": [
    "### 🧪 Kitchen Exercise 6:\n",
    "Write a function called `make_sandwich` that takes `bread`, `filling`, and `sauce` as parameters.\n",
    "Have it return a sentence like:\n",
    "`\"A sandwich with whole wheat bread, chicken, and mayo is ready!\"`\n"
   ]
  },
  {
   "cell_type": "code",
   "execution_count": null,
   "id": "9f33da47",
   "metadata": {
    "vscode": {
     "languageId": "plaintext"
    }
   },
   "outputs": [],
   "source": []
  },
  {
   "cell_type": "markdown",
   "id": "0dd8cbb3",
   "metadata": {},
   "source": [
    "## 🍽️ Kitchen Lesson 6: More About Functions\n",
    "Let’s learn another aspect of Python functions using our kitchen analogy.\n",
    "\n",
    "Imagine this station is in charge of preparing meals depending on what the waiter brings in. Functions can have:\n",
    "- **Default ingredients (parameters)**\n",
    "- **Optional spices (keyword arguments)**\n",
    "- **Cleanup instructions (return values)**\n",
    "\n",
    "Stay tuned to learn how to clean your kitchen after use (function scope and return)!"
   ]
  },
  {
   "cell_type": "markdown",
   "id": "4e432005",
   "metadata": {},
   "source": [
    "### 🧪 Kitchen Exercise 7:\n",
    "Write a function called `make_sandwich` that takes `bread`, `filling`, and `sauce` as parameters.\n",
    "Have it return a sentence like:\n",
    "`\"A sandwich with whole wheat bread, chicken, and mayo is ready!\"`\n"
   ]
  },
  {
   "cell_type": "code",
   "execution_count": null,
   "id": "62a95b6d",
   "metadata": {
    "vscode": {
     "languageId": "plaintext"
    }
   },
   "outputs": [],
   "source": []
  },
  {
   "cell_type": "markdown",
   "id": "8f499769",
   "metadata": {},
   "source": [
    "## 🍽️ Kitchen Lesson 7: More About Functions\n",
    "Let’s learn another aspect of Python functions using our kitchen analogy.\n",
    "\n",
    "Imagine this station is in charge of preparing meals depending on what the waiter brings in. Functions can have:\n",
    "- **Default ingredients (parameters)**\n",
    "- **Optional spices (keyword arguments)**\n",
    "- **Cleanup instructions (return values)**\n",
    "\n",
    "Stay tuned to learn how to clean your kitchen after use (function scope and return)!"
   ]
  },
  {
   "cell_type": "markdown",
   "id": "6bd450aa",
   "metadata": {},
   "source": [
    "### 🧪 Kitchen Exercise 8:\n",
    "Write a function called `make_sandwich` that takes `bread`, `filling`, and `sauce` as parameters.\n",
    "Have it return a sentence like:\n",
    "`\"A sandwich with whole wheat bread, chicken, and mayo is ready!\"`\n"
   ]
  },
  {
   "cell_type": "code",
   "execution_count": null,
   "id": "3ffb3738",
   "metadata": {
    "vscode": {
     "languageId": "plaintext"
    }
   },
   "outputs": [],
   "source": []
  },
  {
   "cell_type": "markdown",
   "id": "82dafc90",
   "metadata": {},
   "source": [
    "## 🍽️ Kitchen Lesson 8: More About Functions\n",
    "Let’s learn another aspect of Python functions using our kitchen analogy.\n",
    "\n",
    "Imagine this station is in charge of preparing meals depending on what the waiter brings in. Functions can have:\n",
    "- **Default ingredients (parameters)**\n",
    "- **Optional spices (keyword arguments)**\n",
    "- **Cleanup instructions (return values)**\n",
    "\n",
    "Stay tuned to learn how to clean your kitchen after use (function scope and return)!"
   ]
  },
  {
   "cell_type": "markdown",
   "id": "3b69dd36",
   "metadata": {},
   "source": [
    "### 🧪 Kitchen Exercise 9:\n",
    "Write a function called `make_sandwich` that takes `bread`, `filling`, and `sauce` as parameters.\n",
    "Have it return a sentence like:\n",
    "`\"A sandwich with whole wheat bread, chicken, and mayo is ready!\"`\n"
   ]
  },
  {
   "cell_type": "code",
   "execution_count": null,
   "id": "918e5ca0",
   "metadata": {
    "vscode": {
     "languageId": "plaintext"
    }
   },
   "outputs": [],
   "source": []
  },
  {
   "cell_type": "markdown",
   "id": "cd21d3e9",
   "metadata": {},
   "source": [
    "## 🍽️ Kitchen Lesson 9: More About Functions\n",
    "Let’s learn another aspect of Python functions using our kitchen analogy.\n",
    "\n",
    "Imagine this station is in charge of preparing meals depending on what the waiter brings in. Functions can have:\n",
    "- **Default ingredients (parameters)**\n",
    "- **Optional spices (keyword arguments)**\n",
    "- **Cleanup instructions (return values)**\n",
    "\n",
    "Stay tuned to learn how to clean your kitchen after use (function scope and return)!"
   ]
  },
  {
   "cell_type": "markdown",
   "id": "bb26ea7c",
   "metadata": {},
   "source": [
    "### 🧪 Kitchen Exercise 10:\n",
    "Write a function called `make_sandwich` that takes `bread`, `filling`, and `sauce` as parameters.\n",
    "Have it return a sentence like:\n",
    "`\"A sandwich with whole wheat bread, chicken, and mayo is ready!\"`\n"
   ]
  },
  {
   "cell_type": "code",
   "execution_count": null,
   "id": "cace353a",
   "metadata": {
    "vscode": {
     "languageId": "plaintext"
    }
   },
   "outputs": [],
   "source": []
  },
  {
   "cell_type": "markdown",
   "id": "9f3e4296",
   "metadata": {},
   "source": [
    "## 🍽️ Kitchen Lesson 10: More About Functions\n",
    "Let’s learn another aspect of Python functions using our kitchen analogy.\n",
    "\n",
    "Imagine this station is in charge of preparing meals depending on what the waiter brings in. Functions can have:\n",
    "- **Default ingredients (parameters)**\n",
    "- **Optional spices (keyword arguments)**\n",
    "- **Cleanup instructions (return values)**\n",
    "\n",
    "Stay tuned to learn how to clean your kitchen after use (function scope and return)!"
   ]
  },
  {
   "cell_type": "markdown",
   "id": "41141e9f",
   "metadata": {},
   "source": [
    "### 🧪 Kitchen Exercise 11:\n",
    "Write a function called `make_sandwich` that takes `bread`, `filling`, and `sauce` as parameters.\n",
    "Have it return a sentence like:\n",
    "`\"A sandwich with whole wheat bread, chicken, and mayo is ready!\"`\n"
   ]
  },
  {
   "cell_type": "code",
   "execution_count": null,
   "id": "49d9a271",
   "metadata": {
    "vscode": {
     "languageId": "plaintext"
    }
   },
   "outputs": [],
   "source": []
  },
  {
   "cell_type": "markdown",
   "id": "b66bac43",
   "metadata": {},
   "source": [
    "## 🍽️ Kitchen Lesson 11: More About Functions\n",
    "Let’s learn another aspect of Python functions using our kitchen analogy.\n",
    "\n",
    "Imagine this station is in charge of preparing meals depending on what the waiter brings in. Functions can have:\n",
    "- **Default ingredients (parameters)**\n",
    "- **Optional spices (keyword arguments)**\n",
    "- **Cleanup instructions (return values)**\n",
    "\n",
    "Stay tuned to learn how to clean your kitchen after use (function scope and return)!"
   ]
  },
  {
   "cell_type": "markdown",
   "id": "134d9e5d",
   "metadata": {},
   "source": [
    "### 🧪 Kitchen Exercise 12:\n",
    "Write a function called `make_sandwich` that takes `bread`, `filling`, and `sauce` as parameters.\n",
    "Have it return a sentence like:\n",
    "`\"A sandwich with whole wheat bread, chicken, and mayo is ready!\"`\n"
   ]
  },
  {
   "cell_type": "code",
   "execution_count": null,
   "id": "23ae250f",
   "metadata": {
    "vscode": {
     "languageId": "plaintext"
    }
   },
   "outputs": [],
   "source": []
  },
  {
   "cell_type": "markdown",
   "id": "59ebdffc",
   "metadata": {},
   "source": [
    "## 🍽️ Kitchen Lesson 12: More About Functions\n",
    "Let’s learn another aspect of Python functions using our kitchen analogy.\n",
    "\n",
    "Imagine this station is in charge of preparing meals depending on what the waiter brings in. Functions can have:\n",
    "- **Default ingredients (parameters)**\n",
    "- **Optional spices (keyword arguments)**\n",
    "- **Cleanup instructions (return values)**\n",
    "\n",
    "Stay tuned to learn how to clean your kitchen after use (function scope and return)!"
   ]
  },
  {
   "cell_type": "markdown",
   "id": "8cb5b780",
   "metadata": {},
   "source": [
    "### 🧪 Kitchen Exercise 13:\n",
    "Write a function called `make_sandwich` that takes `bread`, `filling`, and `sauce` as parameters.\n",
    "Have it return a sentence like:\n",
    "`\"A sandwich with whole wheat bread, chicken, and mayo is ready!\"`\n"
   ]
  },
  {
   "cell_type": "code",
   "execution_count": null,
   "id": "a912e310",
   "metadata": {
    "vscode": {
     "languageId": "plaintext"
    }
   },
   "outputs": [],
   "source": []
  },
  {
   "cell_type": "markdown",
   "id": "6b88869e",
   "metadata": {},
   "source": [
    "## 🍽️ Kitchen Lesson 13: More About Functions\n",
    "Let’s learn another aspect of Python functions using our kitchen analogy.\n",
    "\n",
    "Imagine this station is in charge of preparing meals depending on what the waiter brings in. Functions can have:\n",
    "- **Default ingredients (parameters)**\n",
    "- **Optional spices (keyword arguments)**\n",
    "- **Cleanup instructions (return values)**\n",
    "\n",
    "Stay tuned to learn how to clean your kitchen after use (function scope and return)!"
   ]
  },
  {
   "cell_type": "markdown",
   "id": "ebcbc555",
   "metadata": {},
   "source": [
    "### 🧪 Kitchen Exercise 14:\n",
    "Write a function called `make_sandwich` that takes `bread`, `filling`, and `sauce` as parameters.\n",
    "Have it return a sentence like:\n",
    "`\"A sandwich with whole wheat bread, chicken, and mayo is ready!\"`\n"
   ]
  },
  {
   "cell_type": "code",
   "execution_count": null,
   "id": "a26ece84",
   "metadata": {
    "vscode": {
     "languageId": "plaintext"
    }
   },
   "outputs": [],
   "source": []
  },
  {
   "cell_type": "markdown",
   "id": "674062b8",
   "metadata": {},
   "source": [
    "## 🍽️ Kitchen Lesson 14: More About Functions\n",
    "Let’s learn another aspect of Python functions using our kitchen analogy.\n",
    "\n",
    "Imagine this station is in charge of preparing meals depending on what the waiter brings in. Functions can have:\n",
    "- **Default ingredients (parameters)**\n",
    "- **Optional spices (keyword arguments)**\n",
    "- **Cleanup instructions (return values)**\n",
    "\n",
    "Stay tuned to learn how to clean your kitchen after use (function scope and return)!"
   ]
  },
  {
   "cell_type": "markdown",
   "id": "db5e3348",
   "metadata": {},
   "source": [
    "### 🧪 Kitchen Exercise 15:\n",
    "Write a function called `make_sandwich` that takes `bread`, `filling`, and `sauce` as parameters.\n",
    "Have it return a sentence like:\n",
    "`\"A sandwich with whole wheat bread, chicken, and mayo is ready!\"`\n"
   ]
  },
  {
   "cell_type": "code",
   "execution_count": null,
   "id": "9f4da66f",
   "metadata": {
    "vscode": {
     "languageId": "plaintext"
    }
   },
   "outputs": [],
   "source": []
  },
  {
   "cell_type": "markdown",
   "id": "692fbe5c",
   "metadata": {},
   "source": [
    "## 🎉 Recap: Your Kitchen is Ready!\n",
    "You've now learned how to:\n",
    "- Define and call functions\n",
    "- Use parameters and return values\n",
    "- Work with default and keyword arguments\n",
    "- Structure your code like a professional chef structures a kitchen\n",
    "\n",
    "**Functions help your code stay clean, reusable, and efficient — just like a well-run kitchen! 🍝👨‍🍳**\n",
    "\n",
    "Great job, Chef!"
   ]
  }
 ],
 "metadata": {
  "language_info": {
   "name": "python"
  }
 },
 "nbformat": 4,
 "nbformat_minor": 5
}

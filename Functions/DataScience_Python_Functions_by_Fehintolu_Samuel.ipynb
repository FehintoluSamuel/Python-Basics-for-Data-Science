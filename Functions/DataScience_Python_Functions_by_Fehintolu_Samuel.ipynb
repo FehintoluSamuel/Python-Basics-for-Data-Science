{
 "cells": [
  {
   "cell_type": "markdown",
   "id": "83828870",
   "metadata": {},
   "source": [
    "# Understanding Python Functions: A Beginner’s Journey\n",
    "### By Fehintolu Samuel\n",
    "\n",
    "Welcome to this beginner-friendly guide to Python **functions**—presented with a twist: you’re a **data scientist in a high-tech lab**! 🧪🧠💻\n",
    "\n",
    "Imagine each function as a **custom-built machine** in your lab. You feed it data, it performs a calculation or transformation, and gives you results. Let’s build our data lab together!"
   ]
  },
  {
   "cell_type": "markdown",
   "id": "394d1645",
   "metadata": {},
   "source": [
    "## 🧠 What is a Function in Python?\n",
    "In the world of data science, a function is like a **lab machine** that does a specific task:\n",
    "- Clean data\n",
    "- Perform a mathematical operation\n",
    "- Create a visualization\n",
    "- Train a model\n",
    "\n",
    "**Syntax Reminder:**\n",
    "```python\n",
    "def machine_name(input_data):\n",
    "    # process\n",
    "    return output_data\n",
    "```\n",
    "Functions help organize your workflow into **repeatable, testable, and modular units**—just like real machines!"
   ]
  },
  {
   "cell_type": "markdown",
   "id": "08514a03",
   "metadata": {},
   "source": [
    "### ⚙️ Exercise 1: Brainstorming Lab Machines\n",
    "Write down 3 data science tasks that could be converted into functions. For example:\n",
    "- A function that calculates the average of a dataset\n",
    "- A function that standardizes values (mean = 0, std = 1)\n",
    "- A function that counts missing values"
   ]
  },
  {
   "cell_type": "code",
   "execution_count": null,
   "id": "2894d82b",
   "metadata": {
    "vscode": {
     "languageId": "plaintext"
    }
   },
   "outputs": [],
   "source": []
  },
  {
   "cell_type": "markdown",
   "id": "25499e05",
   "metadata": {},
   "source": [
    "## 🧮 Creating Your First Data Machine\n",
    "Let’s build a function that calculates the **mean** of a list of numbers:\n",
    "\n",
    "```python\n",
    "def calculate_mean(data):\n",
    "    return sum(data) / len(data)\n",
    "```\n",
    "This function acts like a calculator in your lab—simple, powerful, and reusable!"
   ]
  },
  {
   "cell_type": "markdown",
   "id": "a0eca097",
   "metadata": {},
   "source": [
    "### 🧪 Lab Exercise 3:\n",
    "Write a function called `calculate_variance` that:\n",
    "- Takes a list of numbers\n",
    "- Returns the variance using the formula: `sum((x - mean)**2)/n`\n",
    "- Use a helper function to compute the mean first"
   ]
  },
  {
   "cell_type": "code",
   "execution_count": null,
   "id": "5b8bd7f4",
   "metadata": {
    "vscode": {
     "languageId": "plaintext"
    }
   },
   "outputs": [],
   "source": []
  },
  {
   "cell_type": "markdown",
   "id": "dbcb32a9",
   "metadata": {},
   "source": [
    "## 🔬 Lab Lesson 3: Function Anatomy for Data Tasks\n",
    "Let’s learn how to build more flexible machines using:\n",
    "- **Parameters**: like dials you turn to change behavior\n",
    "- **Return values**: the result your machine spits out\n",
    "- **Default arguments**: fallback values if you don’t specify\n",
    "\n",
    "Example:\n",
    "```python\n",
    "def standardize(data, mean=0, std=1):\n",
    "    return [(x - mean) / std for x in data]\n",
    "```\n",
    "You now have a machine that adjusts itself depending on the data!"
   ]
  },
  {
   "cell_type": "markdown",
   "id": "7230020a",
   "metadata": {},
   "source": [
    "### 🧪 Lab Exercise 4:\n",
    "Write a function called `calculate_variance` that:\n",
    "- Takes a list of numbers\n",
    "- Returns the variance using the formula: `sum((x - mean)**2)/n`\n",
    "- Use a helper function to compute the mean first"
   ]
  },
  {
   "cell_type": "code",
   "execution_count": null,
   "id": "a16bf2e8",
   "metadata": {
    "vscode": {
     "languageId": "plaintext"
    }
   },
   "outputs": [],
   "source": []
  },
  {
   "cell_type": "markdown",
   "id": "2fe047e2",
   "metadata": {},
   "source": [
    "## 🔬 Lab Lesson 4: Function Anatomy for Data Tasks\n",
    "Let’s learn how to build more flexible machines using:\n",
    "- **Parameters**: like dials you turn to change behavior\n",
    "- **Return values**: the result your machine spits out\n",
    "- **Default arguments**: fallback values if you don’t specify\n",
    "\n",
    "Example:\n",
    "```python\n",
    "def standardize(data, mean=0, std=1):\n",
    "    return [(x - mean) / std for x in data]\n",
    "```\n",
    "You now have a machine that adjusts itself depending on the data!"
   ]
  },
  {
   "cell_type": "markdown",
   "id": "3ef853e9",
   "metadata": {},
   "source": [
    "### 🧪 Lab Exercise 5:\n",
    "Write a function called `calculate_variance` that:\n",
    "- Takes a list of numbers\n",
    "- Returns the variance using the formula: `sum((x - mean)**2)/n`\n",
    "- Use a helper function to compute the mean first"
   ]
  },
  {
   "cell_type": "code",
   "execution_count": null,
   "id": "58fa5459",
   "metadata": {
    "vscode": {
     "languageId": "plaintext"
    }
   },
   "outputs": [],
   "source": []
  },
  {
   "cell_type": "markdown",
   "id": "e02c6ffe",
   "metadata": {},
   "source": [
    "## 🔬 Lab Lesson 5: Function Anatomy for Data Tasks\n",
    "Let’s learn how to build more flexible machines using:\n",
    "- **Parameters**: like dials you turn to change behavior\n",
    "- **Return values**: the result your machine spits out\n",
    "- **Default arguments**: fallback values if you don’t specify\n",
    "\n",
    "Example:\n",
    "```python\n",
    "def standardize(data, mean=0, std=1):\n",
    "    return [(x - mean) / std for x in data]\n",
    "```\n",
    "You now have a machine that adjusts itself depending on the data!"
   ]
  },
  {
   "cell_type": "markdown",
   "id": "a5e4fe30",
   "metadata": {},
   "source": [
    "### 🧪 Lab Exercise 6:\n",
    "Write a function called `calculate_variance` that:\n",
    "- Takes a list of numbers\n",
    "- Returns the variance using the formula: `sum((x - mean)**2)/n`\n",
    "- Use a helper function to compute the mean first"
   ]
  },
  {
   "cell_type": "code",
   "execution_count": null,
   "id": "9d708124",
   "metadata": {
    "vscode": {
     "languageId": "plaintext"
    }
   },
   "outputs": [],
   "source": []
  },
  {
   "cell_type": "markdown",
   "id": "d0a60621",
   "metadata": {},
   "source": [
    "## 🔬 Lab Lesson 6: Function Anatomy for Data Tasks\n",
    "Let’s learn how to build more flexible machines using:\n",
    "- **Parameters**: like dials you turn to change behavior\n",
    "- **Return values**: the result your machine spits out\n",
    "- **Default arguments**: fallback values if you don’t specify\n",
    "\n",
    "Example:\n",
    "```python\n",
    "def standardize(data, mean=0, std=1):\n",
    "    return [(x - mean) / std for x in data]\n",
    "```\n",
    "You now have a machine that adjusts itself depending on the data!"
   ]
  },
  {
   "cell_type": "markdown",
   "id": "5625be86",
   "metadata": {},
   "source": [
    "### 🧪 Lab Exercise 7:\n",
    "Write a function called `calculate_variance` that:\n",
    "- Takes a list of numbers\n",
    "- Returns the variance using the formula: `sum((x - mean)**2)/n`\n",
    "- Use a helper function to compute the mean first"
   ]
  },
  {
   "cell_type": "code",
   "execution_count": null,
   "id": "4dce69ef",
   "metadata": {
    "vscode": {
     "languageId": "plaintext"
    }
   },
   "outputs": [],
   "source": []
  },
  {
   "cell_type": "markdown",
   "id": "0d85ee56",
   "metadata": {},
   "source": [
    "## 🔬 Lab Lesson 7: Function Anatomy for Data Tasks\n",
    "Let’s learn how to build more flexible machines using:\n",
    "- **Parameters**: like dials you turn to change behavior\n",
    "- **Return values**: the result your machine spits out\n",
    "- **Default arguments**: fallback values if you don’t specify\n",
    "\n",
    "Example:\n",
    "```python\n",
    "def standardize(data, mean=0, std=1):\n",
    "    return [(x - mean) / std for x in data]\n",
    "```\n",
    "You now have a machine that adjusts itself depending on the data!"
   ]
  },
  {
   "cell_type": "markdown",
   "id": "f0a3b835",
   "metadata": {},
   "source": [
    "### 🧪 Lab Exercise 8:\n",
    "Write a function called `calculate_variance` that:\n",
    "- Takes a list of numbers\n",
    "- Returns the variance using the formula: `sum((x - mean)**2)/n`\n",
    "- Use a helper function to compute the mean first"
   ]
  },
  {
   "cell_type": "code",
   "execution_count": null,
   "id": "2bfd318c",
   "metadata": {
    "vscode": {
     "languageId": "plaintext"
    }
   },
   "outputs": [],
   "source": []
  },
  {
   "cell_type": "markdown",
   "id": "951034e9",
   "metadata": {},
   "source": [
    "## 🔬 Lab Lesson 8: Function Anatomy for Data Tasks\n",
    "Let’s learn how to build more flexible machines using:\n",
    "- **Parameters**: like dials you turn to change behavior\n",
    "- **Return values**: the result your machine spits out\n",
    "- **Default arguments**: fallback values if you don’t specify\n",
    "\n",
    "Example:\n",
    "```python\n",
    "def standardize(data, mean=0, std=1):\n",
    "    return [(x - mean) / std for x in data]\n",
    "```\n",
    "You now have a machine that adjusts itself depending on the data!"
   ]
  },
  {
   "cell_type": "markdown",
   "id": "99151626",
   "metadata": {},
   "source": [
    "### 🧪 Lab Exercise 9:\n",
    "Write a function called `calculate_variance` that:\n",
    "- Takes a list of numbers\n",
    "- Returns the variance using the formula: `sum((x - mean)**2)/n`\n",
    "- Use a helper function to compute the mean first"
   ]
  },
  {
   "cell_type": "code",
   "execution_count": null,
   "id": "a5a0e12d",
   "metadata": {
    "vscode": {
     "languageId": "plaintext"
    }
   },
   "outputs": [],
   "source": []
  },
  {
   "cell_type": "markdown",
   "id": "9f27827c",
   "metadata": {},
   "source": [
    "## 🔬 Lab Lesson 9: Function Anatomy for Data Tasks\n",
    "Let’s learn how to build more flexible machines using:\n",
    "- **Parameters**: like dials you turn to change behavior\n",
    "- **Return values**: the result your machine spits out\n",
    "- **Default arguments**: fallback values if you don’t specify\n",
    "\n",
    "Example:\n",
    "```python\n",
    "def standardize(data, mean=0, std=1):\n",
    "    return [(x - mean) / std for x in data]\n",
    "```\n",
    "You now have a machine that adjusts itself depending on the data!"
   ]
  },
  {
   "cell_type": "markdown",
   "id": "907b859d",
   "metadata": {},
   "source": [
    "### 🧪 Lab Exercise 10:\n",
    "Write a function called `calculate_variance` that:\n",
    "- Takes a list of numbers\n",
    "- Returns the variance using the formula: `sum((x - mean)**2)/n`\n",
    "- Use a helper function to compute the mean first"
   ]
  },
  {
   "cell_type": "code",
   "execution_count": null,
   "id": "3eed55c6",
   "metadata": {
    "vscode": {
     "languageId": "plaintext"
    }
   },
   "outputs": [],
   "source": []
  },
  {
   "cell_type": "markdown",
   "id": "39bf985d",
   "metadata": {},
   "source": [
    "## 🔬 Lab Lesson 10: Function Anatomy for Data Tasks\n",
    "Let’s learn how to build more flexible machines using:\n",
    "- **Parameters**: like dials you turn to change behavior\n",
    "- **Return values**: the result your machine spits out\n",
    "- **Default arguments**: fallback values if you don’t specify\n",
    "\n",
    "Example:\n",
    "```python\n",
    "def standardize(data, mean=0, std=1):\n",
    "    return [(x - mean) / std for x in data]\n",
    "```\n",
    "You now have a machine that adjusts itself depending on the data!"
   ]
  },
  {
   "cell_type": "markdown",
   "id": "fc2ae640",
   "metadata": {},
   "source": [
    "### 🧪 Lab Exercise 11:\n",
    "Write a function called `calculate_variance` that:\n",
    "- Takes a list of numbers\n",
    "- Returns the variance using the formula: `sum((x - mean)**2)/n`\n",
    "- Use a helper function to compute the mean first"
   ]
  },
  {
   "cell_type": "code",
   "execution_count": null,
   "id": "a846b289",
   "metadata": {
    "vscode": {
     "languageId": "plaintext"
    }
   },
   "outputs": [],
   "source": []
  },
  {
   "cell_type": "markdown",
   "id": "359eabe3",
   "metadata": {},
   "source": [
    "## 🔬 Lab Lesson 11: Function Anatomy for Data Tasks\n",
    "Let’s learn how to build more flexible machines using:\n",
    "- **Parameters**: like dials you turn to change behavior\n",
    "- **Return values**: the result your machine spits out\n",
    "- **Default arguments**: fallback values if you don’t specify\n",
    "\n",
    "Example:\n",
    "```python\n",
    "def standardize(data, mean=0, std=1):\n",
    "    return [(x - mean) / std for x in data]\n",
    "```\n",
    "You now have a machine that adjusts itself depending on the data!"
   ]
  },
  {
   "cell_type": "markdown",
   "id": "9439cbb1",
   "metadata": {},
   "source": [
    "### 🧪 Lab Exercise 12:\n",
    "Write a function called `calculate_variance` that:\n",
    "- Takes a list of numbers\n",
    "- Returns the variance using the formula: `sum((x - mean)**2)/n`\n",
    "- Use a helper function to compute the mean first"
   ]
  },
  {
   "cell_type": "code",
   "execution_count": null,
   "id": "ee0906cf",
   "metadata": {
    "vscode": {
     "languageId": "plaintext"
    }
   },
   "outputs": [],
   "source": []
  },
  {
   "cell_type": "markdown",
   "id": "eb5ec3f7",
   "metadata": {},
   "source": [
    "## 🔬 Lab Lesson 12: Function Anatomy for Data Tasks\n",
    "Let’s learn how to build more flexible machines using:\n",
    "- **Parameters**: like dials you turn to change behavior\n",
    "- **Return values**: the result your machine spits out\n",
    "- **Default arguments**: fallback values if you don’t specify\n",
    "\n",
    "Example:\n",
    "```python\n",
    "def standardize(data, mean=0, std=1):\n",
    "    return [(x - mean) / std for x in data]\n",
    "```\n",
    "You now have a machine that adjusts itself depending on the data!"
   ]
  },
  {
   "cell_type": "markdown",
   "id": "326d366b",
   "metadata": {},
   "source": [
    "### 🧪 Lab Exercise 13:\n",
    "Write a function called `calculate_variance` that:\n",
    "- Takes a list of numbers\n",
    "- Returns the variance using the formula: `sum((x - mean)**2)/n`\n",
    "- Use a helper function to compute the mean first"
   ]
  },
  {
   "cell_type": "code",
   "execution_count": null,
   "id": "6e7eac1b",
   "metadata": {
    "vscode": {
     "languageId": "plaintext"
    }
   },
   "outputs": [],
   "source": []
  },
  {
   "cell_type": "markdown",
   "id": "a585fc78",
   "metadata": {},
   "source": [
    "## 🔬 Lab Lesson 13: Function Anatomy for Data Tasks\n",
    "Let’s learn how to build more flexible machines using:\n",
    "- **Parameters**: like dials you turn to change behavior\n",
    "- **Return values**: the result your machine spits out\n",
    "- **Default arguments**: fallback values if you don’t specify\n",
    "\n",
    "Example:\n",
    "```python\n",
    "def standardize(data, mean=0, std=1):\n",
    "    return [(x - mean) / std for x in data]\n",
    "```\n",
    "You now have a machine that adjusts itself depending on the data!"
   ]
  },
  {
   "cell_type": "markdown",
   "id": "3b849f96",
   "metadata": {},
   "source": [
    "### 🧪 Lab Exercise 14:\n",
    "Write a function called `calculate_variance` that:\n",
    "- Takes a list of numbers\n",
    "- Returns the variance using the formula: `sum((x - mean)**2)/n`\n",
    "- Use a helper function to compute the mean first"
   ]
  },
  {
   "cell_type": "code",
   "execution_count": null,
   "id": "81b9184b",
   "metadata": {
    "vscode": {
     "languageId": "plaintext"
    }
   },
   "outputs": [],
   "source": []
  },
  {
   "cell_type": "markdown",
   "id": "c3b5d38e",
   "metadata": {},
   "source": [
    "## 🔬 Lab Lesson 14: Function Anatomy for Data Tasks\n",
    "Let’s learn how to build more flexible machines using:\n",
    "- **Parameters**: like dials you turn to change behavior\n",
    "- **Return values**: the result your machine spits out\n",
    "- **Default arguments**: fallback values if you don’t specify\n",
    "\n",
    "Example:\n",
    "```python\n",
    "def standardize(data, mean=0, std=1):\n",
    "    return [(x - mean) / std for x in data]\n",
    "```\n",
    "You now have a machine that adjusts itself depending on the data!"
   ]
  },
  {
   "cell_type": "markdown",
   "id": "9cbf3762",
   "metadata": {},
   "source": [
    "### 🧪 Lab Exercise 15:\n",
    "Write a function called `calculate_variance` that:\n",
    "- Takes a list of numbers\n",
    "- Returns the variance using the formula: `sum((x - mean)**2)/n`\n",
    "- Use a helper function to compute the mean first"
   ]
  },
  {
   "cell_type": "code",
   "execution_count": null,
   "id": "adfd0729",
   "metadata": {
    "vscode": {
     "languageId": "plaintext"
    }
   },
   "outputs": [],
   "source": []
  },
  {
   "cell_type": "markdown",
   "id": "b77e16dd",
   "metadata": {},
   "source": [
    "## ✅ Recap: Your Data Science Lab is Set Up!\n",
    "In this notebook, you've learned how to:\n",
    "- Define and call Python functions\n",
    "- Use parameters, default values, and return results\n",
    "- Apply functions to **data science use cases** like calculating mean, variance, and transforming data\n",
    "\n",
    "**Functions make your code modular, powerful, and reusable—just like specialized lab machines! 🧪📊**\n",
    "\n",
    "Great work, Data Scientist!"
   ]
  }
 ],
 "metadata": {
  "language_info": {
   "name": "python"
  }
 },
 "nbformat": 4,
 "nbformat_minor": 5
}
